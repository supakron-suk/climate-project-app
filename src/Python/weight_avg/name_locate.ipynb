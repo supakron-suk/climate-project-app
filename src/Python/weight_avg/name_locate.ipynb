{
 "cells": [
  {
   "cell_type": "markdown",
   "id": "175789b8",
   "metadata": {},
   "source": [
    "## ใช้โค้ดพวกนี้ใน Python เท่านั้น!!"
   ]
  },
  {
   "cell_type": "code",
   "execution_count": null,
   "id": "5684771f",
   "metadata": {},
   "outputs": [],
   "source": [
    "# import os\n",
    "# import json\n",
    "\n",
    "# def rename_properties(start_year=1960, end_year=1965):\n",
    "#     base_dir = \"public/Geo-data/Era-Dataset\"\n",
    "#     total_years = end_year - start_year + 1\n",
    "\n",
    "#     for idx, year in enumerate(range(start_year, end_year + 1), start=1):\n",
    "#         folder_path = os.path.join(base_dir, str(year))\n",
    "#         file_path = os.path.join(folder_path, f\"region_data_{year}.json\")\n",
    "\n",
    "#         progress = int((idx / total_years) * 100)\n",
    "\n",
    "#         if not os.path.exists(file_path):\n",
    "#             print(f\"[{progress}%]File not found: {file_path}\")\n",
    "#             continue\n",
    "\n",
    "#         # โหลด GeoJSON\n",
    "#         with open(file_path, 'r', encoding='utf-8') as f:\n",
    "#             data = json.load(f)\n",
    "\n",
    "#         updated = False\n",
    "\n",
    "#         for feature in data.get(\"features\", []):\n",
    "#             props = feature.get(\"properties\", {})\n",
    "#             annual = props.get(\"annual\", {})\n",
    "\n",
    "#             if \"tmx\" in annual:\n",
    "#                 annual[\"tmax\"] = annual.pop(\"tmx\")\n",
    "#                 updated = True\n",
    "#             if \"tmn\" in annual:\n",
    "#                 annual[\"tmin\"] = annual.pop(\"tmn\")\n",
    "#                 updated = True\n",
    "\n",
    "#         if updated:\n",
    "#             with open(file_path, 'w', encoding='utf-8') as f:\n",
    "#                 json.dump(data, f, ensure_ascii=False, indent=2)\n",
    "#             print(f\"[{progress}%]Updated: {file_path}\")\n",
    "#         else:\n",
    "#             print(f\"[{progress}%]No changes in: {file_path}\")\n",
    "\n",
    "# # เรียกใช้\n",
    "# rename_properties(1960, 1965)"
   ]
  },
  {
   "cell_type": "code",
   "execution_count": null,
   "id": "a09b1d1e",
   "metadata": {},
   "outputs": [],
   "source": [
    "# import os\n",
    "# import shutil\n",
    "\n",
    "# def move_and_rename_json_files(start_year=1960, end_year=1965):\n",
    "#     base_dir = \"src/Geo-data/Era-Dataset\"\n",
    "    \n",
    "#     for year in range(start_year, end_year + 1):\n",
    "#         old_filename = f\"era_data_polygon_{year}.json\"\n",
    "#         old_path = os.path.join(base_dir, old_filename)\n",
    "        \n",
    "#         # สร้างโฟลเดอร์ปี ถ้ายังไม่มี\n",
    "#         year_folder = os.path.join(base_dir, str(year))\n",
    "#         os.makedirs(year_folder, exist_ok=True)\n",
    "        \n",
    "#         # กำหนดชื่อใหม่ของไฟล์\n",
    "#         new_filename = f\"province_data_{year}.json\"\n",
    "#         new_path = os.path.join(year_folder, new_filename)\n",
    "        \n",
    "#         # ตรวจสอบว่าไฟล์ต้นทางมีจริงก่อนจะย้าย\n",
    "#         if os.path.exists(old_path):\n",
    "#             shutil.move(old_path, new_path)\n",
    "#             print(f\"Moved: {old_filename} → {new_path}\")\n",
    "#         else:\n",
    "#             print(f\"File not found: {old_path}\")\n",
    "\n",
    "# # เรียกใช้ฟังก์ชัน\n",
    "# move_and_rename_json_files(1960, 1965)"
   ]
  },
  {
   "cell_type": "markdown",
   "id": "c05c90b5",
   "metadata": {},
   "source": [
    "## Country change"
   ]
  },
  {
   "cell_type": "code",
   "execution_count": null,
   "id": "dd58f957",
   "metadata": {},
   "outputs": [],
   "source": [
    "import os\n",
    "import shutil\n",
    "\n",
    "def move_and_rename_geojson(start_year=1960, end_year=1970):\n",
    "    src_base = \"../src/Geo-data/Era-Dataset\"\n",
    "    dest_base = \"../public/Geo-data/Era-Dataset\"\n",
    "\n",
    "    total_years = end_year - start_year + 1\n",
    "\n",
    "    for idx, year in enumerate(range(start_year, end_year + 1), start=1):\n",
    "        progress = int((idx / total_years) * 100)\n",
    "\n",
    "        src_filename = f\"era_country_{year}.json\"\n",
    "        src_path = os.path.join(src_base, src_filename)\n",
    "\n",
    "        if not os.path.exists(src_path):\n",
    "            print(f\"[{progress}%] ❌ Source file not found: {src_path}\")\n",
    "            continue\n",
    "\n",
    "        # เตรียม path ใหม่\n",
    "        dest_folder = os.path.join(dest_base, str(year))\n",
    "        os.makedirs(dest_folder, exist_ok=True)\n",
    "\n",
    "        dest_filename = f\"country_data_{year}.json\"\n",
    "        dest_path = os.path.join(dest_folder, dest_filename)\n",
    "\n",
    "        # คัดลอกและเปลี่ยนชื่อ\n",
    "        shutil.copy2(src_path, dest_path)\n",
    "\n",
    "        print(f\"[{progress}%] ✅ Moved: {src_path} -> {dest_path}\")\n",
    "\n",
    "# เรียกใช้\n",
    "move_and_rename_geojson(1960, 1970)"
   ]
  },
  {
   "cell_type": "markdown",
   "id": "cc689ce4",
   "metadata": {},
   "source": [
    "## Region change"
   ]
  },
  {
   "cell_type": "code",
   "execution_count": 4,
   "id": "36dbae66",
   "metadata": {},
   "outputs": [
    {
     "name": "stdout",
     "output_type": "stream",
     "text": [
      "[25%] ❌ Source file not found: src/Geo-data/Era-Dataset\\era_region_1966.json\n",
      "[50%] ❌ Source file not found: src/Geo-data/Era-Dataset\\era_region_1967.json\n",
      "[75%] ❌ Source file not found: src/Geo-data/Era-Dataset\\era_region_1968.json\n",
      "[100%] ❌ Source file not found: src/Geo-data/Era-Dataset\\era_region_1969.json\n"
     ]
    }
   ],
   "source": [
    "import os\n",
    "import shutil\n",
    "\n",
    "def move_and_rename_region_files(start_year=1966, end_year=1969):\n",
    "    src_base = \"src/Geo-data/Era-Dataset\"\n",
    "    dest_base = \"public/Geo-data/Era-Dataset\"\n",
    "\n",
    "    total_years = end_year - start_year + 1\n",
    "\n",
    "    for idx, year in enumerate(range(start_year, end_year + 1), start=1):\n",
    "        progress = int((idx / total_years) * 100)\n",
    "\n",
    "        src_filename = f\"era_region_{year}.json\"\n",
    "        src_path = os.path.join(src_base, src_filename)\n",
    "\n",
    "        if not os.path.exists(src_path):\n",
    "            print(f\"[{progress}%] ❌ Source file not found: {src_path}\")\n",
    "            continue\n",
    "\n",
    "        # สร้างโฟลเดอร์ตามปี\n",
    "        dest_folder = os.path.join(dest_base, str(year))\n",
    "        os.makedirs(dest_folder, exist_ok=True)\n",
    "\n",
    "        dest_filename = f\"region_data_{year}.json\"\n",
    "        dest_path = os.path.join(dest_folder, dest_filename)\n",
    "\n",
    "        # คัดลอกไฟล์\n",
    "        shutil.copy2(src_path, dest_path)\n",
    "\n",
    "        print(f\"[{progress}%] ✅ Moved: {src_path} -> {dest_path}\")\n",
    "\n",
    "# เรียกใช้\n",
    "move_and_rename_region_files(1966, 1969)\n",
    "\n"
   ]
  },
  {
   "cell_type": "markdown",
   "id": "e3c5f19c",
   "metadata": {},
   "source": [
    "## Province change"
   ]
  },
  {
   "cell_type": "code",
   "execution_count": 5,
   "id": "6010ead8",
   "metadata": {},
   "outputs": [
    {
     "name": "stdout",
     "output_type": "stream",
     "text": [
      "[25%] ❌ Source file not found: src/Geo-data/Era-Dataset\\era_data_polygon_1966.json\n",
      "[50%] ❌ Source file not found: src/Geo-data/Era-Dataset\\era_data_polygon_1967.json\n",
      "[75%] ❌ Source file not found: src/Geo-data/Era-Dataset\\era_data_polygon_1968.json\n",
      "[100%] ❌ Source file not found: src/Geo-data/Era-Dataset\\era_data_polygon_1969.json\n"
     ]
    }
   ],
   "source": [
    "import os\n",
    "import shutil\n",
    "\n",
    "def move_and_rename_province_files(start_year=1966, end_year=1969):\n",
    "    src_base = \"src/Geo-data/Era-Dataset\"\n",
    "    dest_base = \"public/Geo-data/Era-Dataset\"\n",
    "\n",
    "    total_years = end_year - start_year + 1\n",
    "\n",
    "    for idx, year in enumerate(range(start_year, end_year + 1), start=1):\n",
    "        progress = int((idx / total_years) * 100)\n",
    "\n",
    "        src_filename = f\"era_data_polygon_{year}.json\"\n",
    "        src_path = os.path.join(src_base, src_filename)\n",
    "\n",
    "        if not os.path.exists(src_path):\n",
    "            print(f\"[{progress}%] ❌ Source file not found: {src_path}\")\n",
    "            continue\n",
    "\n",
    "        # เตรียมโฟลเดอร์ปลายทาง\n",
    "        dest_folder = os.path.join(dest_base, str(year))\n",
    "        os.makedirs(dest_folder, exist_ok=True)\n",
    "\n",
    "        dest_filename = f\"province_data_{year}.json\"\n",
    "        dest_path = os.path.join(dest_folder, dest_filename)\n",
    "\n",
    "        # คัดลอกไฟล์และเปลี่ยนชื่อ\n",
    "        shutil.copy2(src_path, dest_path)\n",
    "\n",
    "        print(f\"[{progress}%] ✅ Moved: {src_path} -> {dest_path}\")\n",
    "\n",
    "# เรียกใช้\n",
    "move_and_rename_province_files(1966, 1969)\n"
   ]
  }
 ],
 "metadata": {
  "kernelspec": {
   "display_name": "Python 3",
   "language": "python",
   "name": "python3"
  },
  "language_info": {
   "codemirror_mode": {
    "name": "ipython",
    "version": 3
   },
   "file_extension": ".py",
   "mimetype": "text/x-python",
   "name": "python",
   "nbconvert_exporter": "python",
   "pygments_lexer": "ipython3",
   "version": "3.12.5"
  }
 },
 "nbformat": 4,
 "nbformat_minor": 5
}
